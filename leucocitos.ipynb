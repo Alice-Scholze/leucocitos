{
 "cells": [
  {
   "cell_type": "markdown",
   "id": "referenced-scott",
   "metadata": {},
   "source": [
    "## Identificação de leucemia em imagens"
   ]
  },
  {
   "cell_type": "markdown",
   "id": "honey-shoot",
   "metadata": {},
   "source": [
    "Este trabalho objetiva, através do uso de tecnicas de visão computacional e CNN, realizar a leitura e posterior identificação de leucócitos em imagens. <br><br>\n",
    "As imagens utilizadas neste trabalho estão dispostas no arquivo [data](./data.zip) e cada uma esta nomeada seguindo o padrão `ImXXX_Y_Z.jpg`. `ImXXX` representa o número da imagem, `Y` o seu número da sequência de alteração e `Z` a sua classe (0 ou 1). A classe da imagem é o que designa se o paciente contém ou não contém leucemia, sendo 0 o indicativo de um paciente normal e 1 de portador de leucemia. <br><br>\n",
    "Para realizar esta análise foram utilizadas duas principais bibliotecas, o `OpenCV` e o `SKLearn`. O `OpenCV` pode ser utilizado tanto durante a fase de processamento quanto treinamento de classificadores para identifcação de objetos, sendo que, neste trabalho, foi utilizao principalmente para tratamento das imagens. Ja o `SKLearn` é uma poderosa biblioteca para aplicação de aprendizado de máquina. Neste trabalho o `SKLearn` foi utilizado principalmente pelo uso do `Multi-layer Perceptron`, um algoritmo que trabalha com camadas escondidas de convoluções para extração de caracteristicas de imagens. <br><br>\n",
    "Com a união dessas bibliotecas e alguns detalhes de implementação, foi possivel criar um classificador que realiza a identificação de leucócitos em imagens. <br><br>\n",
    "Abaixo seguem detalhados os passos para o desenvolvimento e resultados obtidos com este trabalho."
   ]
  },
  {
   "cell_type": "markdown",
   "id": "inner-stretch",
   "metadata": {},
   "source": [
    "### Desenvolvimento"
   ]
  },
  {
   "cell_type": "markdown",
   "id": "arabic-pension",
   "metadata": {},
   "source": [
    "Para iniciar o desenvolvimento, foram importadas as bibliotecas abaixo, sendo:\n",
    "- *cv2*: OpenCV, utilizado para técnicas de visão computacional.\n",
    "- *os*: módulo python que permite a iteração com o sistema operacional. Utilizado para leitura das imagens que serão utilizadas no treinamento e teste do classificador.\n",
    "- *numpy*: prove alta performance para trabalhar com arrays multimencionais.\n",
    "- *tqdm*: utilizada para exibir o progresso de execução de loops.\n",
    "- *random*: utilizado para embaralhar os dados.\n",
    "- *sklearn*: além do uso do algoritmo `MLPClassifier` que prove uma CNN para treinamento do classificador, também são importados o `train_test_split`, que realiza a divisão do conjunto de dados entre teste e treino e, também, o `metrics` que é utilizado para analisar os resultados obtidos pelo classificador."
   ]
  },
  {
   "cell_type": "code",
   "execution_count": 8,
   "id": "local-scope",
   "metadata": {},
   "outputs": [],
   "source": [
    "import cv2 \n",
    "import os \n",
    "import numpy as np \n",
    "from tqdm import tqdm\n",
    "from random import shuffle\n",
    "from sklearn.model_selection import train_test_split\n",
    "from sklearn.neural_network import MLPClassifier\n",
    "from sklearn.metrics import plot_confusion_matrix"
   ]
  },
  {
   "cell_type": "markdown",
   "id": "pleased-drive",
   "metadata": {},
   "source": [
    "As imagens que serão utilizadas estão salvas localmente no diretório `~/data`, para isso é definida a variavel `folder` que recebe o local de armazenamento das imagens. Além disso, é criada a constante `IMG_SIZE` que sera utiliza mais tarde para setar as dimensões das imagens. <br><br>\n",
    "Outra informação definida abaixo é o valor `random`. Isto é necessário para que a execução dos scripts que possuem dados randomicos resultem nos mesmos valores indiferentemente de por qual estação de trabalho seja executado."
   ]
  },
  {
   "cell_type": "code",
   "execution_count": 9,
   "id": "intense-appendix",
   "metadata": {},
   "outputs": [],
   "source": [
    "folder = 'data'\n",
    "IMG_SIZE = 50\n",
    "np.random.seed(42)"
   ]
  },
  {
   "cell_type": "markdown",
   "id": "false-invalid",
   "metadata": {},
   "source": [
    "Abaixo é definida a função `label_img`. Esta função recebe como parametro o nome de uma imagem (que como visto anteriormente, possui um padrão em sua nomenclatura que possui a informação da classe da imagem). Esta função tem o objetivo de verificar e retornar o valor da classe."
   ]
  },
  {
   "cell_type": "code",
   "execution_count": 10,
   "id": "presidential-mortgage",
   "metadata": {},
   "outputs": [],
   "source": [
    "def label_img(img): \n",
    "    name = img.split('.')\n",
    "    label = name[0].split('_')\n",
    "    \n",
    "    if label[2] == '0' : return 0\n",
    "    else : return 1"
   ]
  },
  {
   "cell_type": "markdown",
   "id": "large-dress",
   "metadata": {},
   "source": [
    "O pré-processamento das imagens é realizado abaixo na função `create_data`. Aqui se define a variável `data`, que ira armazenar um array multidimencional contendo as informações das imagens. <br><br>\n",
    "Para isso, primeiramente é realiza a leitura de cada imagem no diretório anteriomente definido. Ao ler uma imagem é chamada a função `label_img` para verificar sua classe e guardar o resultado em `label`. Com o auxilio do OpenCV é então realizada a leitura da imagem, feita a conversão para escala de cinza e redimencionada para o valor definido em `IMG_SIZE`. <br><br>\n",
    "Realizado o tratamento, o array `data` adiciona em uma posição os dados pré-processados da imagem em formato `np.array` e sua classe. Para garantir a aleatoriadade, é utilizado o método `suffle` para realizar o embaralhamento dos dados dentro do array `data`. <br><br> Postariormente, os dados contidos em \n",
    "`data` são salvos em um arquivo chamado [data.npy](./data.npy), este arquivo é utilizado para que em próximas execuções deste script não seja necessário refazer todo o processamento, bastando apenas carregar este arquivo em `data`."
   ]
  },
  {
   "cell_type": "code",
   "execution_count": 11,
   "id": "arbitrary-indication",
   "metadata": {},
   "outputs": [],
   "source": [
    "data = []\n",
    "\n",
    "def create_data():\n",
    "    for img in tqdm(os.listdir(folder)): \n",
    "        label = label_img(img)\n",
    "        path = os.path.join(folder, img) \n",
    "\n",
    "        img = cv2.imread(path, cv2.IMREAD_GRAYSCALE) \n",
    "        img = cv2.resize(img, (IMG_SIZE, IMG_SIZE)) \n",
    "\n",
    "        data.append([np.array(img), label])\n",
    "        shuffle(data) \n",
    "\n",
    "        np.save('data.npy', data)"
   ]
  },
  {
   "cell_type": "markdown",
   "id": "specific-antibody",
   "metadata": {},
   "source": [
    "Como citado acima, caso ja tenhamos o arquivo [data.npy](./data.npy) não temos a necessidade de refazer o processamento de todas as imagens. Para isso foi implementada a lógica abaixo que verifica se este arquivo ja existe. Caso o arquivo exista, `data` recebe os dados do arquivo, caso contrário a função `create_data` é executada para processar as imagens."
   ]
  },
  {
   "cell_type": "code",
   "execution_count": 12,
   "id": "angry-steal",
   "metadata": {},
   "outputs": [],
   "source": [
    "if(os.path.exists('data.npy')): \n",
    "    data = np.load('data.npy', allow_pickle=True)\n",
    "    data = data.tolist()\n",
    "else: create_data()"
   ]
  },
  {
   "cell_type": "markdown",
   "id": "received-donna",
   "metadata": {},
   "source": [
    "Outro fator necessário é separar as imagens que serão utilizadas para treino e teste do classificador. Para isso, primeiramente são salvos em `X` os valores das imagens e em `y` suas classes. Após isso é feita uma transformação nas imagens para ficarem dimencionadas em um array unidimencional. <br><br>\n",
    "Tendo os dados no formato necessário, é utilizado o `train_test_split` passando como parametro nosso conjunto de imagens, suas labels, o tamanho do conjuto de teste desejado (neste caso 0.33) e o valor randomico que deve ser aplicado). Assim, o algoritmo devolve quatro dados, sendo `X_train` os dados das imagens para treinamento e `y_train` suas respectivas classes e, `X_test` os dados das imagens para teste com `y_test` sendo suas respectivas classes."
   ]
  },
  {
   "cell_type": "code",
   "execution_count": 13,
   "id": "arbitrary-annex",
   "metadata": {},
   "outputs": [],
   "source": [
    "X = np.array([i[0] for i in data])\n",
    "y = [i[1] for i in data] \n",
    "\n",
    "nsamples, nx, ny = X.shape\n",
    "dataset = X.reshape((nsamples,nx*ny))\n",
    "\n",
    "X_train, X_test, y_train, y_test = train_test_split(\n",
    "     dataset, y, test_size=0.33, random_state=42)"
   ]
  },
  {
   "cell_type": "markdown",
   "id": "tough-purpose",
   "metadata": {},
   "source": [
    "Abaixo é definido o classificador em `clf`. Foi definido o `solver` como `lbfgs` por desempenhar bem com conjuntos menores de dados, `max_iter` para limitar o número de iteração em 300 e setando o valor de `random` em 1. <br><br>\n",
    "Criado o classificador, é realizado o treinamento utilizando o conjunto de dados separados no processo anterior e, em seguida, testado o classificador com o conjunto de teste para verificar o grau de acertividade do classificador. Neste caso, o score foi `0.7591564927857936`"
   ]
  },
  {
   "cell_type": "code",
   "execution_count": 14,
   "id": "preliminary-effort",
   "metadata": {},
   "outputs": [
    {
     "name": "stderr",
     "output_type": "stream",
     "text": [
      "/home/alicescholze/Projects/IAA/VC/leucocitos/env/lib/python3.8/site-packages/sklearn/neural_network/_multilayer_perceptron.py:500: ConvergenceWarning: lbfgs failed to converge (status=1):\n",
      "STOP: TOTAL NO. of ITERATIONS REACHED LIMIT.\n",
      "\n",
      "Increase the number of iterations (max_iter) or scale the data as shown in:\n",
      "    https://scikit-learn.org/stable/modules/preprocessing.html\n",
      "  self.n_iter_ = _check_optimize_result(\"lbfgs\", opt_res, self.max_iter)\n"
     ]
    },
    {
     "data": {
      "text/plain": [
       "0.7591564927857936"
      ]
     },
     "execution_count": 14,
     "metadata": {},
     "output_type": "execute_result"
    }
   ],
   "source": [
    "clf = MLPClassifier(solver='lbfgs', max_iter=300, random_state=1)\n",
    "clf.fit(X_train, y_train)\n",
    "\n",
    "clf.score(X_test, y_test)"
   ]
  },
  {
   "cell_type": "markdown",
   "id": "further-ensemble",
   "metadata": {},
   "source": [
    "Além do *score* de 75% de acertividade, é possível analisar o modelo através da matrix de confusão resultante. De um total de 1802 imagens utilizados para o teste, 667 foram verdadeiros positivos, 236 verdadeiros negativos, 701 verdadeiros nagetivos e 198 falsos negativos."
   ]
  },
  {
   "cell_type": "code",
   "execution_count": 15,
   "id": "postal-indie",
   "metadata": {},
   "outputs": [
    {
     "data": {
      "image/png": "[encoded data removed]",
      "text/plain": [
       "<Figure size 432x288 with 2 Axes>"
      ]
     },
     "metadata": {
      "needs_background": "light"
     },
     "output_type": "display_data"
    }
   ],
   "source": [
    "plot_confusion_matrix(clf, X_test, y_test, display_labels=['Normal', 'Leucemia'])\n",
    "plt.show()"
   ]
  },
  {
   "cell_type": "code",
   "execution_count": null,
   "id": "southern-kazakhstan",
   "metadata": {},
   "outputs": [],
   "source": []
  }
 ],
 "metadata": {
  "kernelspec": {
   "display_name": "Python 3",
   "language": "python",
   "name": "python3"
  },
  "language_info": {
   "codemirror_mode": {
    "name": "ipython",
    "version": 3
   },
   "file_extension": ".py",
   "mimetype": "text/x-python",
   "name": "python",
   "nbconvert_exporter": "python",
   "pygments_lexer": "ipython3",
   "version": "3.8.5"
  }
 },
 "nbformat": 4,
 "nbformat_minor": 5
}

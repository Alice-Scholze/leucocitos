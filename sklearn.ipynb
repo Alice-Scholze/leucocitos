{
 "cells": [
  {
   "cell_type": "code",
   "execution_count": 1,
   "id": "romance-wages",
   "metadata": {},
   "outputs": [],
   "source": [
    "import cv2 \n",
    "import os \n",
    "import numpy as np \n",
    "from random import shuffle\n",
    "from tqdm import tqdm\n",
    "from sklearn.model_selection import train_test_split\n",
    "from sklearn.neural_network import MLPClassifier\n",
    "from sklearn import metrics\n",
    "import pylab as plt"
   ]
  },
  {
   "cell_type": "code",
   "execution_count": 2,
   "id": "intense-appendix",
   "metadata": {},
   "outputs": [],
   "source": [
    "folder = 'data'\n",
    "IMG_SIZE = 50"
   ]
  },
  {
   "cell_type": "code",
   "execution_count": 3,
   "id": "presidential-mortgage",
   "metadata": {},
   "outputs": [],
   "source": [
    "def label_img(img): \n",
    "    name = img.split('.')\n",
    "    label = name[0].split('_')\n",
    "    if label[2] == '0' : return 0\n",
    "    else : return 1"
   ]
  },
  {
   "cell_type": "code",
   "execution_count": 4,
   "id": "arbitrary-indication",
   "metadata": {},
   "outputs": [
    {
     "name": "stderr",
     "output_type": "stream",
     "text": [
      "100%|██████████| 5460/5460 [00:02<00:00, 2168.53it/s]\n"
     ]
    }
   ],
   "source": [
    "data = [] \n",
    "\n",
    "for img in tqdm(os.listdir(folder)): \n",
    "    label = label_img(img)\n",
    "    path = os.path.join(folder, img) \n",
    "  \n",
    "    # loading the image from the path and then converting them into \n",
    "    # greyscale for easier covnet prob \n",
    "    img = cv2.imread(path, cv2.IMREAD_GRAYSCALE) \n",
    "\n",
    "    # resizing the image for processing them in the covnet \n",
    "    img = cv2.resize(img, (IMG_SIZE, IMG_SIZE)) \n",
    "\n",
    "    # final step-forming the training data list with numpy array of the images \n",
    "    data.append([np.array(img), label])"
   ]
  },
  {
   "cell_type": "code",
   "execution_count": 5,
   "id": "premier-perception",
   "metadata": {},
   "outputs": [
    {
     "name": "stderr",
     "output_type": "stream",
     "text": [
      "/home/alicescholze/Projects/IAA/VC/leucocitos/env/lib/python3.8/site-packages/numpy/core/_asarray.py:136: VisibleDeprecationWarning: Creating an ndarray from ragged nested sequences (which is a list-or-tuple of lists-or-tuples-or ndarrays with different lengths or shapes) is deprecated. If you meant to do this, you must specify 'dtype=object' when creating the ndarray\n",
      "  return array(a, dtype, copy=False, order=order, subok=True)\n"
     ]
    }
   ],
   "source": [
    "shuffle(data) \n",
    "  \n",
    "# saving our trained data for further uses if required \n",
    "np.save('sk_data.npy', data) \n",
    "# data"
   ]
  },
  {
   "cell_type": "code",
   "execution_count": 6,
   "id": "sixth-bleeding",
   "metadata": {},
   "outputs": [],
   "source": [
    "size = int(len(data))\n",
    "middle = int(size/2)"
   ]
  },
  {
   "cell_type": "code",
   "execution_count": 7,
   "id": "arbitrary-annex",
   "metadata": {},
   "outputs": [],
   "source": [
    "X = np.array([i[0] for i in data])\n",
    "y = [i[1] for i in data] "
   ]
  },
  {
   "cell_type": "code",
   "execution_count": 8,
   "id": "closed-valuation",
   "metadata": {},
   "outputs": [],
   "source": [
    "nsamples, nx, ny = X.shape\n",
    "train_dataset = X.reshape((nsamples,nx*ny))"
   ]
  },
  {
   "cell_type": "code",
   "execution_count": 9,
   "id": "dedicated-burning",
   "metadata": {},
   "outputs": [],
   "source": [
    "X_train, X_test, y_train, y_test = train_test_split(\n",
    "     train_dataset, y, test_size=0.33, random_state=42)"
   ]
  },
  {
   "cell_type": "code",
   "execution_count": 10,
   "id": "acoustic-humanity",
   "metadata": {},
   "outputs": [
    {
     "data": {
      "text/plain": [
       "(3658, 2500)"
      ]
     },
     "execution_count": 10,
     "metadata": {},
     "output_type": "execute_result"
    }
   ],
   "source": [
    "X_train.shape"
   ]
  },
  {
   "cell_type": "code",
   "execution_count": 11,
   "id": "adverse-absence",
   "metadata": {},
   "outputs": [
    {
     "data": {
      "text/plain": [
       "(1802, 2500)"
      ]
     },
     "execution_count": 11,
     "metadata": {},
     "output_type": "execute_result"
    }
   ],
   "source": [
    "X_test.shape"
   ]
  },
  {
   "cell_type": "code",
   "execution_count": 12,
   "id": "international-dayton",
   "metadata": {},
   "outputs": [
    {
     "data": {
      "text/plain": [
       "3658"
      ]
     },
     "execution_count": 12,
     "metadata": {},
     "output_type": "execute_result"
    }
   ],
   "source": [
    "len(y_train)"
   ]
  },
  {
   "cell_type": "code",
   "execution_count": 13,
   "id": "hungarian-yesterday",
   "metadata": {},
   "outputs": [
    {
     "data": {
      "text/plain": [
       "1802"
      ]
     },
     "execution_count": 13,
     "metadata": {},
     "output_type": "execute_result"
    }
   ],
   "source": [
    "len(y_test)"
   ]
  },
  {
   "cell_type": "code",
   "execution_count": 14,
   "id": "signed-plymouth",
   "metadata": {},
   "outputs": [],
   "source": [
    "np.save('X_test.npy', X_test)\n",
    "np.save('X_train.npy', X_train)"
   ]
  },
  {
   "cell_type": "code",
   "execution_count": 15,
   "id": "preliminary-effort",
   "metadata": {},
   "outputs": [],
   "source": [
    "clf = MLPClassifier(solver='lbfgs', alpha=1e-5, hidden_layer_sizes=(5, 2), random_state=1)"
   ]
  },
  {
   "cell_type": "code",
   "execution_count": 16,
   "id": "pediatric-wrist",
   "metadata": {},
   "outputs": [
    {
     "name": "stderr",
     "output_type": "stream",
     "text": [
      "/home/alicescholze/Projects/IAA/VC/leucocitos/env/lib/python3.8/site-packages/sklearn/neural_network/_multilayer_perceptron.py:500: ConvergenceWarning: lbfgs failed to converge (status=1):\n",
      "STOP: TOTAL NO. of ITERATIONS REACHED LIMIT.\n",
      "\n",
      "Increase the number of iterations (max_iter) or scale the data as shown in:\n",
      "    https://scikit-learn.org/stable/modules/preprocessing.html\n",
      "  self.n_iter_ = _check_optimize_result(\"lbfgs\", opt_res, self.max_iter)\n"
     ]
    },
    {
     "data": {
      "text/plain": [
       "MLPClassifier(alpha=1e-05, hidden_layer_sizes=(5, 2), random_state=1,\n",
       "              solver='lbfgs')"
      ]
     },
     "execution_count": 16,
     "metadata": {},
     "output_type": "execute_result"
    }
   ],
   "source": [
    "clf.fit(X_train, y_train)"
   ]
  },
  {
   "cell_type": "code",
   "execution_count": 17,
   "id": "grave-ecology",
   "metadata": {},
   "outputs": [],
   "source": [
    "y_predicted = clf.predict(X_test)"
   ]
  },
  {
   "cell_type": "code",
   "execution_count": 18,
   "id": "falling-shock",
   "metadata": {},
   "outputs": [
    {
     "data": {
      "text/plain": [
       "0.6637069922308546"
      ]
     },
     "execution_count": 18,
     "metadata": {},
     "output_type": "execute_result"
    }
   ],
   "source": [
    "np.mean(y_predicted == y_test)"
   ]
  },
  {
   "cell_type": "code",
   "execution_count": 19,
   "id": "postal-indie",
   "metadata": {},
   "outputs": [
    {
     "name": "stdout",
     "output_type": "stream",
     "text": [
      "Confusion matrix: \n",
      "[[805  94]\n",
      " [512 391]]\n"
     ]
    },
    {
     "name": "stderr",
     "output_type": "stream",
     "text": [
      "<ipython-input-19-f71dee2d2904>:11: UserWarning: FixedFormatter should only be used together with FixedLocator\n",
      "  ax.set_xticklabels([''])\n",
      "<ipython-input-19-f71dee2d2904>:12: UserWarning: FixedFormatter should only be used together with FixedLocator\n",
      "  ax.set_yticklabels([''])\n"
     ]
    },
    {
     "data": {
      "image/png": "[encoded data removed]",
      "text/plain": [
       "<Figure size 432x288 with 2 Axes>"
      ]
     },
     "metadata": {
      "needs_background": "light"
     },
     "output_type": "display_data"
    }
   ],
   "source": [
    "cm = metrics.confusion_matrix(y_test, y_predicted)    \n",
    "print(\"Confusion matrix: \")\n",
    "print(cm)\n",
    "\n",
    "fig = plt.figure()\n",
    "ax = fig.add_subplot(111)\n",
    "cax = ax.matshow(cm)\n",
    "\n",
    "fig.colorbar(cax)\n",
    "\n",
    "ax.set_xticklabels([''])\n",
    "ax.set_yticklabels([''])\n",
    "\n",
    "plt.show()"
   ]
  },
  {
   "cell_type": "code",
   "execution_count": 20,
   "id": "about-determination",
   "metadata": {},
   "outputs": [
    {
     "data": {
      "text/plain": [
       "array([0, 1])"
      ]
     },
     "execution_count": 20,
     "metadata": {},
     "output_type": "execute_result"
    }
   ],
   "source": [
    "np.unique(y)"
   ]
  },
  {
   "cell_type": "code",
   "execution_count": null,
   "id": "stupid-stanford",
   "metadata": {},
   "outputs": [],
   "source": []
  }
 ],
 "metadata": {
  "kernelspec": {
   "display_name": "Python 3",
   "language": "python",
   "name": "python3"
  },
  "language_info": {
   "codemirror_mode": {
    "name": "ipython",
    "version": 3
   },
   "file_extension": ".py",
   "mimetype": "text/x-python",
   "name": "python",
   "nbconvert_exporter": "python",
   "pygments_lexer": "ipython3",
   "version": "3.8.5"
  }
 },
 "nbformat": 4,
 "nbformat_minor": 5
}
